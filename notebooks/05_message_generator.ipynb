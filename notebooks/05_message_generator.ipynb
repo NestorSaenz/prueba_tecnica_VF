{
 "cells": [
  {
   "cell_type": "code",
   "execution_count": 22,
   "metadata": {},
   "outputs": [
    {
     "name": "stderr",
     "output_type": "stream",
     "text": [
      "Generando mensajes: 100it [06:43,  4.03s/it]"
     ]
    },
    {
     "name": "stdout",
     "output_type": "stream",
     "text": [
      "\n",
      "Mensajes guardados en: output/personalized_messages.csv\n"
     ]
    },
    {
     "name": "stderr",
     "output_type": "stream",
     "text": [
      "\n"
     ]
    }
   ],
   "source": [
    "import pandas as pd\n",
    "from openai import AzureOpenAI\n",
    "from tqdm import tqdm\n",
    "import os\n",
    "\n",
    "# 1. Configuración de OpenAI\n",
    "client = AzureOpenAI(\n",
    "    api_key=\"4b6sN2Bj3FAPlNnbhVqtEjXMGhoTS69lfAXKLyDM9sotWzDxp3bjJQQJ99BEACYeBjFXJ3w3AAABACOGjsn0\",\n",
    "    api_version=\"2023-05-15\",\n",
    "    azure_endpoint=\"https://voiceflip-openai.openai.azure.com/\"\n",
    ")\n",
    "\n",
    "# 2. Cargar datos\n",
    "df_segments = pd.read_csv('D:/voiceflip/notebooks/data/processed/churn_segmented.csv')\n",
    "\n",
    "# 3. Función para generar mensajes personalizados\n",
    "def generate_message(metrics):\n",
    "    risk_descriptions = {\n",
    "        1: \"cliente fiel con bajo riesgo\",\n",
    "        2: \"cliente con algunas señales de riesgo\",\n",
    "        3: \"cliente que requiere atención inmediata\"\n",
    "    }\n",
    "    risk_text = risk_descriptions.get(metrics['risk_group'], \"cliente\")\n",
    "    \n",
    "    prompt = f\"\"\"\n",
    "    Genera un mensaje profesional y personalizado en español para un {risk_text} con:\n",
    "    - Nivel de engagement actual: {metrics['engagement']:.2f}\n",
    "    - Probabilidad de abandono: {metrics['churn_probability']:.2f}\n",
    "    \n",
    "    El mensaje debe:\n",
    "    1. Ser formal y directo\n",
    "    2. Mencionar las métricas específicas de uso\n",
    "    3. Incluir 2 recomendaciones concretas de productos VoiceFlip:\n",
    "    4. Terminar con una llamada a la acción clara\n",
    "    5. Incluir firma profesional\n",
    "    \n",
    "    No uses placeholders ni variables. Todo debe ser específico.\n",
    "    \"\"\"\n",
    "    \n",
    "    try:\n",
    "        response = client.chat.completions.create(\n",
    "            model=\"gpt-4o\",  # Corregido: gpt-4 en lugar de gpt-4o\n",
    "            messages=[\n",
    "                {\n",
    "                    \"role\": \"system\", \n",
    "                    \"content\": \"Eres un especialista en retención de clientes de VoiceFlip, una plataforma de procesamiento de voz y análisis de audio.\"\n",
    "                },\n",
    "                {\"role\": \"user\", \"content\": prompt}\n",
    "            ],\n",
    "            temperature=0.7\n",
    "        )\n",
    "        return response.choices[0].message.content\n",
    "    except Exception as e:\n",
    "        return f\"Error generando mensaje: {e}\"\n",
    "\n",
    "# 4. Procesar usuarios\n",
    "results = []\n",
    "for _, row in tqdm(df_segments.head(100).iterrows(), desc=\"Generando mensajes\"):\n",
    "    try:\n",
    "        msg = generate_message({\n",
    "            \"risk_group\": row[\"risk_group\"],\n",
    "            \"engagement\": row[\"engagement\"],\n",
    "            \"churn_probability\": row[\"churn_probability\"]\n",
    "        })\n",
    "        results.append({\n",
    "            \"user_id\": row.name,\n",
    "            \"risk_group\": row[\"risk_group\"],\n",
    "            \"churn_prob\": row[\"churn_probability\"],\n",
    "            \"message\": msg\n",
    "        })\n",
    "    except Exception as e:\n",
    "        print(f\"Error con usuario {row.name}: {str(e)}\")\n",
    "\n",
    "# 5. Crear DataFrame con resultados\n",
    "messages_df = pd.DataFrame(results)\n",
    "\n",
    "\n",
    "\n",
    "# 7. Guardar resultados\n",
    "output_path = 'output/personalized_messages.csv'\n",
    "os.makedirs('output', exist_ok=True)\n",
    "messages_df.to_csv(output_path, index=False)\n",
    "print(f\"\\nMensajes guardados en: {output_path}\")"
   ]
  }
 ],
 "metadata": {
  "kernelspec": {
   "display_name": "env",
   "language": "python",
   "name": "python3"
  },
  "language_info": {
   "codemirror_mode": {
    "name": "ipython",
    "version": 3
   },
   "file_extension": ".py",
   "mimetype": "text/x-python",
   "name": "python",
   "nbconvert_exporter": "python",
   "pygments_lexer": "ipython3",
   "version": "3.9.0"
  }
 },
 "nbformat": 4,
 "nbformat_minor": 2
}
