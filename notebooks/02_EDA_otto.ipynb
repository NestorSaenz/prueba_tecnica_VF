{
 "cells": [
  {
   "cell_type": "code",
   "execution_count": null,
   "metadata": {},
   "outputs": [],
   "source": [
    "import pandas as pd\n",
    "import json\n",
    "from tqdm import tqdm\n",
    "import os"
   ]
  },
  {
   "cell_type": "code",
   "execution_count": 3,
   "metadata": {},
   "outputs": [
    {
     "name": "stdout",
     "output_type": "stream",
     "text": [
      "Processing train data...\n"
     ]
    },
    {
     "name": "stderr",
     "output_type": "stream",
     "text": [
      "Processing: 100%|██████████| 12899779/12899779 [10:43<00:00, 20047.27it/s]\n"
     ]
    },
    {
     "name": "stdout",
     "output_type": "stream",
     "text": [
      "\n",
      "Processing test data...\n"
     ]
    },
    {
     "name": "stderr",
     "output_type": "stream",
     "text": [
      "Processing: 100%|██████████| 1671803/1671803 [00:31<00:00, 52968.77it/s]\n"
     ]
    },
    {
     "name": "stdout",
     "output_type": "stream",
     "text": [
      "\n",
      "=== Dataset Overview ===\n",
      "Train shape: (216716096, 5)\n",
      "Test shape: (13851293, 5)\n",
      "\n",
      "Event type distribution in train:\n",
      "type\n",
      "clicks    0.898507\n",
      "carts     0.077965\n",
      "orders    0.023528\n",
      "Name: proportion, dtype: float64\n"
     ]
    }
   ],
   "source": [
    "\n",
    "\n",
    "def process_jsonl_in_chunks(file_path, chunk_size=10000):\n",
    "    \"\"\"Process large JSONL file in chunks\"\"\"\n",
    "    # Verify file exists\n",
    "    if not os.path.exists(file_path):\n",
    "        raise FileNotFoundError(f\"File not found: {file_path}\")\n",
    "        \n",
    "    chunks = []\n",
    "    records = []\n",
    "    \n",
    "    try:\n",
    "        with open(file_path, 'r', encoding='utf-8') as f:\n",
    "            # Count total lines for progress bar\n",
    "            total_lines = sum(1 for _ in open(file_path, 'r'))\n",
    "            f.seek(0)  # Reset file pointer\n",
    "            \n",
    "            for line in tqdm(f, total=total_lines, desc=\"Processing\"):\n",
    "                record = json.loads(line.strip())\n",
    "                session_id = record['session']\n",
    "                for event in record['events']:\n",
    "                    records.append({\n",
    "                        'session': session_id,\n",
    "                        'aid': event['aid'],\n",
    "                        'ts': event['ts'],\n",
    "                        'type': event['type']\n",
    "                    })\n",
    "                \n",
    "                if len(records) >= chunk_size:\n",
    "                    chunks.append(pd.DataFrame(records))\n",
    "                    records = []\n",
    "    \n",
    "        # Add remaining records\n",
    "        if records:\n",
    "            chunks.append(pd.DataFrame(records))\n",
    "        \n",
    "        return pd.concat(chunks, ignore_index=True)\n",
    "    except Exception as e:\n",
    "        print(f\"Error processing file {file_path}: {str(e)}\")\n",
    "        raise\n",
    "\n",
    "# Create data directories if they don't exist\n",
    "os.makedirs('data/processed', exist_ok=True)\n",
    "\n",
    "# Process files with correct paths\n",
    "train_path = 'D:/voiceflip/datasets/otto-recsys-train.jsonl'\n",
    "test_path = 'D:/voiceflip/datasets/otto-recsys-test.jsonl'\n",
    "\n",
    "# Verify files exist before processing\n",
    "if not os.path.exists(train_path):\n",
    "    raise FileNotFoundError(f\"Training file not found at: {train_path}\")\n",
    "if not os.path.exists(test_path):\n",
    "    raise FileNotFoundError(f\"Test file not found at: {test_path}\")\n",
    "\n",
    "# Process files\n",
    "print(\"Processing train data...\")\n",
    "train_df = process_jsonl_in_chunks(train_path)\n",
    "print(\"\\nProcessing test data...\")\n",
    "test_df = process_jsonl_in_chunks(test_path)\n",
    "# Add source column\n",
    "train_df['source'] = 'train'\n",
    "test_df['source'] = 'test'\n",
    "\n",
    "\n",
    "# Display basic statistics\n",
    "print(\"\\n=== Dataset Overview ===\")\n",
    "print(f\"Train shape: {train_df.shape}\")\n",
    "print(f\"Test shape: {test_df.shape}\")\n",
    "print(\"\\nEvent type distribution in train:\")\n",
    "print(train_df['type'].value_counts(normalize=True))"
   ]
  },
  {
   "cell_type": "code",
   "execution_count": 4,
   "metadata": {},
   "outputs": [
    {
     "data": {
      "text/html": [
       "<div>\n",
       "<style scoped>\n",
       "    .dataframe tbody tr th:only-of-type {\n",
       "        vertical-align: middle;\n",
       "    }\n",
       "\n",
       "    .dataframe tbody tr th {\n",
       "        vertical-align: top;\n",
       "    }\n",
       "\n",
       "    .dataframe thead th {\n",
       "        text-align: right;\n",
       "    }\n",
       "</style>\n",
       "<table border=\"1\" class=\"dataframe\">\n",
       "  <thead>\n",
       "    <tr style=\"text-align: right;\">\n",
       "      <th></th>\n",
       "      <th>session</th>\n",
       "      <th>aid</th>\n",
       "      <th>ts</th>\n",
       "      <th>type</th>\n",
       "      <th>source</th>\n",
       "    </tr>\n",
       "  </thead>\n",
       "  <tbody>\n",
       "    <tr>\n",
       "      <th>0</th>\n",
       "      <td>0</td>\n",
       "      <td>1517085</td>\n",
       "      <td>1659304800025</td>\n",
       "      <td>clicks</td>\n",
       "      <td>train</td>\n",
       "    </tr>\n",
       "    <tr>\n",
       "      <th>1</th>\n",
       "      <td>0</td>\n",
       "      <td>1563459</td>\n",
       "      <td>1659304904511</td>\n",
       "      <td>clicks</td>\n",
       "      <td>train</td>\n",
       "    </tr>\n",
       "    <tr>\n",
       "      <th>2</th>\n",
       "      <td>0</td>\n",
       "      <td>1309446</td>\n",
       "      <td>1659367439426</td>\n",
       "      <td>clicks</td>\n",
       "      <td>train</td>\n",
       "    </tr>\n",
       "    <tr>\n",
       "      <th>3</th>\n",
       "      <td>0</td>\n",
       "      <td>16246</td>\n",
       "      <td>1659367719997</td>\n",
       "      <td>clicks</td>\n",
       "      <td>train</td>\n",
       "    </tr>\n",
       "    <tr>\n",
       "      <th>4</th>\n",
       "      <td>0</td>\n",
       "      <td>1781822</td>\n",
       "      <td>1659367871344</td>\n",
       "      <td>clicks</td>\n",
       "      <td>train</td>\n",
       "    </tr>\n",
       "  </tbody>\n",
       "</table>\n",
       "</div>"
      ],
      "text/plain": [
       "   session      aid             ts    type source\n",
       "0        0  1517085  1659304800025  clicks  train\n",
       "1        0  1563459  1659304904511  clicks  train\n",
       "2        0  1309446  1659367439426  clicks  train\n",
       "3        0    16246  1659367719997  clicks  train\n",
       "4        0  1781822  1659367871344  clicks  train"
      ]
     },
     "execution_count": 4,
     "metadata": {},
     "output_type": "execute_result"
    }
   ],
   "source": [
    "train_df.head()"
   ]
  },
  {
   "cell_type": "code",
   "execution_count": 5,
   "metadata": {},
   "outputs": [
    {
     "data": {
      "text/html": [
       "<div>\n",
       "<style scoped>\n",
       "    .dataframe tbody tr th:only-of-type {\n",
       "        vertical-align: middle;\n",
       "    }\n",
       "\n",
       "    .dataframe tbody tr th {\n",
       "        vertical-align: top;\n",
       "    }\n",
       "\n",
       "    .dataframe thead th {\n",
       "        text-align: right;\n",
       "    }\n",
       "</style>\n",
       "<table border=\"1\" class=\"dataframe\">\n",
       "  <thead>\n",
       "    <tr style=\"text-align: right;\">\n",
       "      <th></th>\n",
       "      <th>session</th>\n",
       "      <th>aid</th>\n",
       "      <th>ts</th>\n",
       "      <th>type</th>\n",
       "      <th>source</th>\n",
       "    </tr>\n",
       "  </thead>\n",
       "  <tbody>\n",
       "    <tr>\n",
       "      <th>0</th>\n",
       "      <td>12899779</td>\n",
       "      <td>59625</td>\n",
       "      <td>1661724000278</td>\n",
       "      <td>clicks</td>\n",
       "      <td>test</td>\n",
       "    </tr>\n",
       "    <tr>\n",
       "      <th>1</th>\n",
       "      <td>12899779</td>\n",
       "      <td>875854</td>\n",
       "      <td>1661724026702</td>\n",
       "      <td>clicks</td>\n",
       "      <td>test</td>\n",
       "    </tr>\n",
       "    <tr>\n",
       "      <th>2</th>\n",
       "      <td>12899780</td>\n",
       "      <td>1142000</td>\n",
       "      <td>1661724000378</td>\n",
       "      <td>clicks</td>\n",
       "      <td>test</td>\n",
       "    </tr>\n",
       "    <tr>\n",
       "      <th>3</th>\n",
       "      <td>12899780</td>\n",
       "      <td>582732</td>\n",
       "      <td>1661724058352</td>\n",
       "      <td>clicks</td>\n",
       "      <td>test</td>\n",
       "    </tr>\n",
       "    <tr>\n",
       "      <th>4</th>\n",
       "      <td>12899780</td>\n",
       "      <td>973453</td>\n",
       "      <td>1661724109199</td>\n",
       "      <td>clicks</td>\n",
       "      <td>test</td>\n",
       "    </tr>\n",
       "  </tbody>\n",
       "</table>\n",
       "</div>"
      ],
      "text/plain": [
       "    session      aid             ts    type source\n",
       "0  12899779    59625  1661724000278  clicks   test\n",
       "1  12899779   875854  1661724026702  clicks   test\n",
       "2  12899780  1142000  1661724000378  clicks   test\n",
       "3  12899780   582732  1661724058352  clicks   test\n",
       "4  12899780   973453  1661724109199  clicks   test"
      ]
     },
     "execution_count": 5,
     "metadata": {},
     "output_type": "execute_result"
    }
   ],
   "source": [
    "test_df.head()"
   ]
  },
  {
   "cell_type": "code",
   "execution_count": 14,
   "metadata": {},
   "outputs": [
    {
     "name": "stdout",
     "output_type": "stream",
     "text": [
      "<class 'pandas.core.frame.DataFrame'>\n",
      "RangeIndex: 216716096 entries, 0 to 216716095\n",
      "Data columns (total 5 columns):\n",
      " #   Column   Dtype \n",
      "---  ------   ----- \n",
      " 0   session  int64 \n",
      " 1   aid      int64 \n",
      " 2   ts       int64 \n",
      " 3   type     object\n",
      " 4   source   object\n",
      "dtypes: int64(3), object(2)\n",
      "memory usage: 8.1+ GB\n"
     ]
    }
   ],
   "source": [
    "train_df.info()"
   ]
  },
  {
   "cell_type": "code",
   "execution_count": 6,
   "metadata": {},
   "outputs": [
    {
     "data": {
      "text/plain": [
       "session    0\n",
       "aid        0\n",
       "ts         0\n",
       "type       0\n",
       "source     0\n",
       "dtype: int64"
      ]
     },
     "execution_count": 6,
     "metadata": {},
     "output_type": "execute_result"
    }
   ],
   "source": [
    "train_df.isna().sum()   "
   ]
  },
  {
   "cell_type": "code",
   "execution_count": 16,
   "metadata": {},
   "outputs": [
    {
     "data": {
      "text/plain": [
       "session    0\n",
       "aid        0\n",
       "ts         0\n",
       "type       0\n",
       "source     0\n",
       "dtype: int64"
      ]
     },
     "execution_count": 16,
     "metadata": {},
     "output_type": "execute_result"
    }
   ],
   "source": [
    "test_df.isna().sum()"
   ]
  },
  {
   "cell_type": "code",
   "execution_count": 17,
   "metadata": {},
   "outputs": [
    {
     "data": {
      "text/plain": [
       "np.int64(331159)"
      ]
     },
     "execution_count": 17,
     "metadata": {},
     "output_type": "execute_result"
    }
   ],
   "source": [
    "train_df.duplicated().sum()"
   ]
  },
  {
   "cell_type": "code",
   "execution_count": 25,
   "metadata": {},
   "outputs": [],
   "source": [
    "train_df = train_df.drop_duplicates()"
   ]
  },
  {
   "cell_type": "code",
   "execution_count": 19,
   "metadata": {},
   "outputs": [
    {
     "data": {
      "text/plain": [
       "np.int64(18895)"
      ]
     },
     "execution_count": 19,
     "metadata": {},
     "output_type": "execute_result"
    }
   ],
   "source": [
    "test_df.duplicated().sum()"
   ]
  },
  {
   "cell_type": "code",
   "execution_count": 26,
   "metadata": {},
   "outputs": [],
   "source": [
    "test_df = test_df.drop_duplicates()"
   ]
  },
  {
   "cell_type": "code",
   "execution_count": 24,
   "metadata": {},
   "outputs": [
    {
     "data": {
      "text/html": [
       "<div>\n",
       "<style scoped>\n",
       "    .dataframe tbody tr th:only-of-type {\n",
       "        vertical-align: middle;\n",
       "    }\n",
       "\n",
       "    .dataframe tbody tr th {\n",
       "        vertical-align: top;\n",
       "    }\n",
       "\n",
       "    .dataframe thead th {\n",
       "        text-align: right;\n",
       "    }\n",
       "</style>\n",
       "<table border=\"1\" class=\"dataframe\">\n",
       "  <thead>\n",
       "    <tr style=\"text-align: right;\">\n",
       "      <th></th>\n",
       "      <th>session</th>\n",
       "      <th>aid</th>\n",
       "      <th>ts</th>\n",
       "      <th>type</th>\n",
       "      <th>source</th>\n",
       "    </tr>\n",
       "  </thead>\n",
       "  <tbody>\n",
       "    <tr>\n",
       "      <th>464</th>\n",
       "      <td>12899799</td>\n",
       "      <td>413826</td>\n",
       "      <td>1661808401955</td>\n",
       "      <td>orders</td>\n",
       "      <td>test</td>\n",
       "    </tr>\n",
       "    <tr>\n",
       "      <th>467</th>\n",
       "      <td>12899799</td>\n",
       "      <td>413826</td>\n",
       "      <td>1661808401955</td>\n",
       "      <td>orders</td>\n",
       "      <td>test</td>\n",
       "    </tr>\n",
       "    <tr>\n",
       "      <th>458</th>\n",
       "      <td>12899799</td>\n",
       "      <td>1191715</td>\n",
       "      <td>1661808401955</td>\n",
       "      <td>orders</td>\n",
       "      <td>test</td>\n",
       "    </tr>\n",
       "    <tr>\n",
       "      <th>460</th>\n",
       "      <td>12899799</td>\n",
       "      <td>1191715</td>\n",
       "      <td>1661808401955</td>\n",
       "      <td>orders</td>\n",
       "      <td>test</td>\n",
       "    </tr>\n",
       "    <tr>\n",
       "      <th>462</th>\n",
       "      <td>12899799</td>\n",
       "      <td>1309722</td>\n",
       "      <td>1661808401955</td>\n",
       "      <td>orders</td>\n",
       "      <td>test</td>\n",
       "    </tr>\n",
       "  </tbody>\n",
       "</table>\n",
       "</div>"
      ],
      "text/plain": [
       "      session      aid             ts    type source\n",
       "464  12899799   413826  1661808401955  orders   test\n",
       "467  12899799   413826  1661808401955  orders   test\n",
       "458  12899799  1191715  1661808401955  orders   test\n",
       "460  12899799  1191715  1661808401955  orders   test\n",
       "462  12899799  1309722  1661808401955  orders   test"
      ]
     },
     "execution_count": 24,
     "metadata": {},
     "output_type": "execute_result"
    }
   ],
   "source": [
    "duplicados_df = test_df[test_df.duplicated(keep=False)].sort_values(by=list(test_df.columns)).head()\n",
    "duplicados_df\n"
   ]
  },
  {
   "cell_type": "markdown",
   "metadata": {},
   "source": [
    "## Analisis de columnas clave\n",
    "1. Distribución de Eventos(type)"
   ]
  },
  {
   "cell_type": "code",
   "execution_count": 27,
   "metadata": {},
   "outputs": [
    {
     "name": "stdout",
     "output_type": "stream",
     "text": [
      "type\n",
      "clicks    0.899439\n",
      "carts     0.078046\n",
      "orders    0.022515\n",
      "Name: proportion, dtype: float64\n"
     ]
    },
    {
     "data": {
      "image/png": "[encoded data removed]",
      "text/plain": [
       "<Figure size 640x480 with 1 Axes>"
      ]
     },
     "metadata": {},
     "output_type": "display_data"
    }
   ],
   "source": [
    "import matplotlib.pyplot as plt\n",
    "\n",
    "# Conteo y proporción\n",
    "event_dist = train_df['type'].value_counts(normalize=True)\n",
    "print(event_dist)\n",
    "\n",
    "# Gráfico\n",
    "event_dist.plot(kind='bar', color='skyblue')\n",
    "plt.title('Distribución de Tipos de Evento')\n",
    "plt.xticks(rotation=0)\n",
    "plt.show()"
   ]
  },
  {
   "cell_type": "markdown",
   "metadata": {},
   "source": [
    "2. Articulos Más Interactuados(aid)"
   ]
  },
  {
   "cell_type": "code",
   "execution_count": 29,
   "metadata": {},
   "outputs": [
    {
     "name": "stdout",
     "output_type": "stream",
     "text": [
      "\n",
      "Top 10 Artículos Más Interactuados:\n",
      "       aid  Interacciones\n",
      "0  1460571         128939\n",
      "1   485256         126745\n",
      "2   108125         118470\n",
      "3    29735         113220\n",
      "4  1733943         105028\n",
      "5   832192          91294\n",
      "6   184976          90201\n",
      "7   166037          84620\n",
      "8   554660          80162\n",
      "9   231487          79459\n"
     ]
    },
    {
     "data": {
      "image/png": "[encoded data removed]",
      "text/plain": [
       "<Figure size 1200x600 with 1 Axes>"
      ]
     },
     "metadata": {},
     "output_type": "display_data"
    }
   ],
   "source": [
    "# 1. Análisis con todos los datos\n",
    "top_10_articles = train_df['aid'].value_counts().head(10).reset_index()\n",
    "top_10_articles.columns = ['aid', 'Interacciones']  # Renombrar la columna\n",
    "\n",
    "print('\\nTop 10 Artículos Más Interactuados:')\n",
    "print(top_10_articles)\n",
    "\n",
    "# 2. Gráfico con todos los datos\n",
    "plt.figure(figsize=(12, 6))\n",
    "bars = plt.bar(top_10_articles['aid'].astype(str), top_10_articles['Interacciones'], color='skyblue')\n",
    "\n",
    "# Añadir etiquetas y título\n",
    "plt.title('Top 10 Artículos Más Interactuados (Datos Completos)', fontsize=14)\n",
    "plt.xlabel('ID del Artículo (aid)', fontsize=12)\n",
    "plt.ylabel('Número de Interacciones', fontsize=12)\n",
    "plt.xticks(rotation=45, ha='right')\n",
    "\n",
    "# Añadir los valores exactos en las barras\n",
    "for bar in bars:\n",
    "    height = bar.get_height()\n",
    "    plt.text(bar.get_x() + bar.get_width()/2., height,\n",
    "             f'{int(height):,}',\n",
    "             ha='center', va='bottom', fontsize=10)\n",
    "\n",
    "plt.tight_layout()\n",
    "plt.show()"
   ]
  },
  {
   "cell_type": "markdown",
   "metadata": {},
   "source": [
    "3. Patrones Temporales (ts)"
   ]
  },
  {
   "cell_type": "code",
   "execution_count": 30,
   "metadata": {},
   "outputs": [
    {
     "data": {
      "image/png": "[encoded data removed]",
      "text/plain": [
       "<Figure size 640x480 with 1 Axes>"
      ]
     },
     "metadata": {},
     "output_type": "display_data"
    }
   ],
   "source": [
    "# Convertir timestamp a datetime (solo si es necesario)\n",
    "train_df['datetime'] = pd.to_datetime(train_df['ts'], unit='ms')\n",
    "\n",
    "# Eventos por día (muestra aleatoria del 1% para eficiencia)\n",
    "train_df.sample(frac=0.01).set_index('datetime').resample('D')['type'].count().plot()\n",
    "plt.title('Eventos por Día (Sample 1%)')\n",
    "plt.show()"
   ]
  },
  {
   "cell_type": "markdown",
   "metadata": {},
   "source": [
    "## Análisis de Sesiones\n",
    "1. Duración Promedio de Sesiones"
   ]
  },
  {
   "cell_type": "code",
   "execution_count": 37,
   "metadata": {},
   "outputs": [
    {
     "name": "stdout",
     "output_type": "stream",
     "text": [
      "Procesando 216,384,937 filas en chunks de 10,000...\n"
     ]
    },
    {
     "name": "stderr",
     "output_type": "stream",
     "text": [
      "Procesando chunks: 100%|██████████| 21639/21639 [32:41<00:00, 11.03chunk/s]   \n"
     ]
    },
    {
     "name": "stdout",
     "output_type": "stream",
     "text": [
      "\n",
      "✔ Sesiones procesadas: 12,920,129 de 12,899,779 (100.2%)\n",
      "\n",
      "📊 Estadísticas clave (segundos):\n",
      "- Media: 591545.56\n",
      "- Mediana: 185056.87\n",
      "- 90% de sesiones ≤ 1825765.52s\n"
     ]
    },
    {
     "data": {
      "image/png": "[encoded data removed]",
      "text/plain": [
       "<Figure size 1000x500 with 1 Axes>"
      ]
     },
     "metadata": {},
     "output_type": "display_data"
    },
    {
     "name": "stdout",
     "output_type": "stream",
     "text": [
      "\n",
      "💾 Resultados guardados en 'session_durations.csv'\n"
     ]
    }
   ],
   "source": [
    "\n",
    "# =============================================\n",
    "# 1. Configuración segura para grandes volúmenes\n",
    "# =============================================\n",
    "CHUNK_SIZE = 10_000  # Reducido para mayor seguridad\n",
    "TOTAL_ROWS = len(train_df)\n",
    "NUM_CHUNKS = (TOTAL_ROWS // CHUNK_SIZE) + 1\n",
    "\n",
    "\n",
    "\n",
    "# =============================================\n",
    "# 2. Procesamiento por chunks SIN MemoryError\n",
    "# =============================================\n",
    "def safe_chunk_processing(df, chunk_size):\n",
    "    \"\"\"Procesamiento seguro por chunks usando índices.\"\"\"\n",
    "    results = []\n",
    "    for start in tqdm(range(0, len(df), chunk_size), \n",
    "                    desc=\"Procesando chunks\",\n",
    "                    unit=\"chunk\"):\n",
    "        end = min(start + chunk_size, len(df))\n",
    "        chunk = df.iloc[start:end]\n",
    "        duration = chunk.groupby('session')['datetime'].agg(\n",
    "            lambda x: (x.max() - x.min()).total_seconds()\n",
    "        )\n",
    "        results.append(duration)\n",
    "    return pd.concat(results)\n",
    "\n",
    "print(f\"Procesando {TOTAL_ROWS:,} filas en chunks de {CHUNK_SIZE:,}...\")\n",
    "session_duration = safe_chunk_processing(train_df, CHUNK_SIZE)\n",
    "\n",
    "# =============================================\n",
    "# 3. Verificación y análisis (igual que antes)\n",
    "# =============================================\n",
    "total_sessions = train_df['session'].nunique()\n",
    "processed_sessions = len(session_duration)\n",
    "\n",
    "print(f\"\\n✔ Sesiones procesadas: {processed_sessions:,} de {total_sessions:,} \"\n",
    "      f\"({processed_sessions/total_sessions:.1%})\")\n",
    "\n",
    "# Estadísticas\n",
    "stats = session_duration.describe(percentiles=[0.1, 0.25, 0.5, 0.75, 0.9, 0.95])\n",
    "print(\"\\n📊 Estadísticas clave (segundos):\")\n",
    "print(f\"- Media: {stats['mean']:.2f}\")\n",
    "print(f\"- Mediana: {stats['50%']:.2f}\")\n",
    "print(f\"- 90% de sesiones ≤ {stats['90%']:.2f}s\")\n",
    "\n",
    "# =============================================\n",
    "# 4. Visualización optimizada\n",
    "# =============================================\n",
    "plt.figure(figsize=(10, 5))\n",
    "plt.hist(session_duration.clip(upper=3600), bins=30, \n",
    "         color='#1f77b4', edgecolor='white')\n",
    "plt.title(f'Duración de Sesiones (n={processed_sessions:,})', pad=15)\n",
    "plt.xlabel('Segundos (limitado a 1 hora)')\n",
    "plt.ylabel('Frecuencia')\n",
    "plt.grid(axis='y', alpha=0.3)\n",
    "plt.tight_layout()\n",
    "plt.show()\n",
    "\n"
   ]
  },
  {
   "cell_type": "markdown",
   "metadata": {},
   "source": []
  },
  {
   "cell_type": "markdown",
   "metadata": {},
   "source": [
    "2. Eventos por Sesión"
   ]
  },
  {
   "cell_type": "code",
   "execution_count": 38,
   "metadata": {},
   "outputs": [
    {
     "name": "stdout",
     "output_type": "stream",
     "text": [
      "\n",
      "Media de eventos/sesión: 16.8\n"
     ]
    },
    {
     "data": {
      "text/plain": [
       "<Axes: title={'center': 'Distribución de Eventos por Sesión (hasta 20 eventos)'}, ylabel='Frequency'>"
      ]
     },
     "execution_count": 38,
     "metadata": {},
     "output_type": "execute_result"
    },
    {
     "data": {
      "image/png": "[encoded data removed]",
      "text/plain": [
       "<Figure size 640x480 with 1 Axes>"
      ]
     },
     "metadata": {},
     "output_type": "display_data"
    }
   ],
   "source": [
    "events_per_session = train_df.groupby('session').size()\n",
    "print(f\"\\nMedia de eventos/sesión: {events_per_session.mean():.1f}\")\n",
    "\n",
    "events_per_session[events_per_session < 20].plot(  # Filtro para visualización\n",
    "    kind='hist', \n",
    "    bins=20,\n",
    "    title='Distribución de Eventos por Sesión (hasta 20 eventos)'\n",
    ")"
   ]
  },
  {
   "cell_type": "markdown",
   "metadata": {},
   "source": [
    "## Limpieza recomendada\n",
    "1. Eliminar Sesiones Cortas"
   ]
  },
  {
   "cell_type": "code",
   "execution_count": 39,
   "metadata": {},
   "outputs": [],
   "source": [
    "sessions_to_keep = events_per_session[events_per_session >= 3].index\n",
    "train_df_clean = train_df[train_df['session'].isin(sessions_to_keep)]"
   ]
  },
  {
   "cell_type": "code",
   "execution_count": 41,
   "metadata": {},
   "outputs": [
    {
     "data": {
      "text/plain": [
       "(211394181, 6)"
      ]
     },
     "execution_count": 41,
     "metadata": {},
     "output_type": "execute_result"
    }
   ],
   "source": [
    "train_df_clean.shape"
   ]
  },
  {
   "cell_type": "markdown",
   "metadata": {},
   "source": [
    "## Se guardan los dataframes para el modelo\n"
   ]
  },
  {
   "cell_type": "code",
   "execution_count": 7,
   "metadata": {},
   "outputs": [],
   "source": [
    "train_df.to_csv('data/processed/train_df_clean.csv', index=False)\n",
    "test_df.to_csv('data/processed/test_df_clean.csv', index=False)"
   ]
  },
  {
   "cell_type": "code",
   "execution_count": 8,
   "metadata": {},
   "outputs": [
    {
     "data": {
      "text/html": [
       "<div>\n",
       "<style scoped>\n",
       "    .dataframe tbody tr th:only-of-type {\n",
       "        vertical-align: middle;\n",
       "    }\n",
       "\n",
       "    .dataframe tbody tr th {\n",
       "        vertical-align: top;\n",
       "    }\n",
       "\n",
       "    .dataframe thead th {\n",
       "        text-align: right;\n",
       "    }\n",
       "</style>\n",
       "<table border=\"1\" class=\"dataframe\">\n",
       "  <thead>\n",
       "    <tr style=\"text-align: right;\">\n",
       "      <th></th>\n",
       "      <th>session</th>\n",
       "      <th>aid</th>\n",
       "      <th>ts</th>\n",
       "      <th>type</th>\n",
       "      <th>source</th>\n",
       "    </tr>\n",
       "  </thead>\n",
       "  <tbody>\n",
       "    <tr>\n",
       "      <th>0</th>\n",
       "      <td>0</td>\n",
       "      <td>1517085</td>\n",
       "      <td>1659304800025</td>\n",
       "      <td>clicks</td>\n",
       "      <td>train</td>\n",
       "    </tr>\n",
       "    <tr>\n",
       "      <th>1</th>\n",
       "      <td>0</td>\n",
       "      <td>1563459</td>\n",
       "      <td>1659304904511</td>\n",
       "      <td>clicks</td>\n",
       "      <td>train</td>\n",
       "    </tr>\n",
       "    <tr>\n",
       "      <th>2</th>\n",
       "      <td>0</td>\n",
       "      <td>1309446</td>\n",
       "      <td>1659367439426</td>\n",
       "      <td>clicks</td>\n",
       "      <td>train</td>\n",
       "    </tr>\n",
       "    <tr>\n",
       "      <th>3</th>\n",
       "      <td>0</td>\n",
       "      <td>16246</td>\n",
       "      <td>1659367719997</td>\n",
       "      <td>clicks</td>\n",
       "      <td>train</td>\n",
       "    </tr>\n",
       "    <tr>\n",
       "      <th>4</th>\n",
       "      <td>0</td>\n",
       "      <td>1781822</td>\n",
       "      <td>1659367871344</td>\n",
       "      <td>clicks</td>\n",
       "      <td>train</td>\n",
       "    </tr>\n",
       "  </tbody>\n",
       "</table>\n",
       "</div>"
      ],
      "text/plain": [
       "   session      aid             ts    type source\n",
       "0        0  1517085  1659304800025  clicks  train\n",
       "1        0  1563459  1659304904511  clicks  train\n",
       "2        0  1309446  1659367439426  clicks  train\n",
       "3        0    16246  1659367719997  clicks  train\n",
       "4        0  1781822  1659367871344  clicks  train"
      ]
     },
     "execution_count": 8,
     "metadata": {},
     "output_type": "execute_result"
    }
   ],
   "source": [
    "train_df.head()"
   ]
  }
 ],
 "metadata": {
  "kernelspec": {
   "display_name": "env",
   "language": "python",
   "name": "python3"
  },
  "language_info": {
   "codemirror_mode": {
    "name": "ipython",
    "version": 3
   },
   "file_extension": ".py",
   "mimetype": "text/x-python",
   "name": "python",
   "nbconvert_exporter": "python",
   "pygments_lexer": "ipython3",
   "version": "3.9.0"
  }
 },
 "nbformat": 4,
 "nbformat_minor": 2
}
