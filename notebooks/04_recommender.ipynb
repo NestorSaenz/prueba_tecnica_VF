{
 "cells": [
  {
   "cell_type": "code",
   "execution_count": 3,
   "metadata": {},
   "outputs": [],
   "source": [
    "import sys\n",
    "sys.path.append(\"..\") \n",
    "from src.models.recommender import Recommender\n",
    "import pandas as pd\n",
    "\n",
    "# # Cargar tus datos\n",
    "# df = pd.read_csv('D:/voiceflip/notebooks/data/processed/train_df_clean.csv')\n",
    "\n",
    "# # Instanciar y entrenar el modelo\n",
    "# recommender = Recommender()\n",
    "# recommender.fit(df)\n",
    "\n",
    "\n",
    "cols_to_use = ['session', 'aid', 'ts', 'type']\n",
    "dtypes = {\n",
    "    'session': 'int32',\n",
    "    'aid': 'int32',\n",
    "    'ts': 'int64',  # timestamp como entero\n",
    "    'type': 'category'  # reduce el uso de memoria\n",
    "}\n",
    "\n",
    "\n",
    "chunks = pd.read_csv(\n",
    "    'D:/voiceflip/notebooks/data/processed/train_df_clean.csv',\n",
    "    usecols=cols_to_use,\n",
    "    dtype=dtypes,\n",
    "    chunksize=1_00000  # ajustá según tu RAM\n",
    ")\n",
    "\n",
    "# Ejemplo: unir todos los chunks filtrando solo eventos de tipo 'clicks'\n",
    "df_list = [chunk[chunk['type'] == 'clicks'] for chunk in chunks]\n",
    "df = pd.concat(df_list, ignore_index=True)\n",
    "\n",
    "\n"
   ]
  },
  {
   "cell_type": "code",
   "execution_count": 13,
   "metadata": {},
   "outputs": [
    {
     "name": "stdout",
     "output_type": "stream",
     "text": [
      "Training recommender...\n",
      "Processing data in batches...\n"
     ]
    },
    {
     "name": "stderr",
     "output_type": "stream",
     "text": [
      "  0%|          | 0/1947210 [00:00<?, ?it/s]\n"
     ]
    },
    {
     "ename": "NameError",
     "evalue": "name 'batch_size' is not defined",
     "output_type": "error",
     "traceback": [
      "\u001b[1;31m---------------------------------------------------------------------------\u001b[0m",
      "\u001b[1;31mNameError\u001b[0m                                 Traceback (most recent call last)",
      "Cell \u001b[1;32mIn[13], line 7\u001b[0m\n\u001b[0;32m      5\u001b[0m \u001b[38;5;28mprint\u001b[39m(\u001b[38;5;124m\"\u001b[39m\u001b[38;5;124mTraining recommender...\u001b[39m\u001b[38;5;124m\"\u001b[39m)\n\u001b[0;32m      6\u001b[0m recommender \u001b[38;5;241m=\u001b[39m Recommender()  \u001b[38;5;66;03m# No batch_size in constructor\u001b[39;00m\n\u001b[1;32m----> 7\u001b[0m \u001b[43mrecommender\u001b[49m\u001b[38;5;241;43m.\u001b[39;49m\u001b[43mfit\u001b[49m\u001b[43m(\u001b[49m\u001b[43mdf\u001b[49m\u001b[43m)\u001b[49m  \u001b[38;5;66;03m# Pass batch_size to fit instead\u001b[39;00m\n\u001b[0;32m      9\u001b[0m \u001b[38;5;66;03m# Test recommendations\u001b[39;00m\n\u001b[0;32m     10\u001b[0m test_session \u001b[38;5;241m=\u001b[39m df[\u001b[38;5;124m'\u001b[39m\u001b[38;5;124msession\u001b[39m\u001b[38;5;124m'\u001b[39m]\u001b[38;5;241m.\u001b[39miloc[\u001b[38;5;241m0\u001b[39m]\n",
      "File \u001b[1;32md:\\voiceflip\\src\\models\\recommender.py:32\u001b[0m, in \u001b[0;36mRecommender.fit\u001b[1;34m(self, df)\u001b[0m\n\u001b[0;32m     30\u001b[0m \u001b[38;5;66;03m# Process in batches\u001b[39;00m\n\u001b[0;32m     31\u001b[0m \u001b[38;5;28;01mfor\u001b[39;00m start \u001b[38;5;129;01min\u001b[39;00m tqdm(\u001b[38;5;28mrange\u001b[39m(\u001b[38;5;241m0\u001b[39m, \u001b[38;5;28mlen\u001b[39m(df), \u001b[38;5;28mself\u001b[39m\u001b[38;5;241m.\u001b[39mbatch_size)):\n\u001b[1;32m---> 32\u001b[0m     batch \u001b[38;5;241m=\u001b[39m df\u001b[38;5;241m.\u001b[39miloc[start:\u001b[38;5;28mmin\u001b[39m(start \u001b[38;5;241m+\u001b[39m \u001b[43mbatch_size\u001b[49m, \u001b[38;5;28mlen\u001b[39m(df))]\n\u001b[0;32m     34\u001b[0m     \u001b[38;5;28;01mfor\u001b[39;00m _, row \u001b[38;5;129;01min\u001b[39;00m batch\u001b[38;5;241m.\u001b[39miterrows():\n\u001b[0;32m     35\u001b[0m         user_id \u001b[38;5;241m=\u001b[39m \u001b[38;5;28mself\u001b[39m\u001b[38;5;241m.\u001b[39m_get_or_add_id(row[\u001b[38;5;124m'\u001b[39m\u001b[38;5;124msession\u001b[39m\u001b[38;5;124m'\u001b[39m], \u001b[38;5;28mself\u001b[39m\u001b[38;5;241m.\u001b[39muser_ids)\n",
      "\u001b[1;31mNameError\u001b[0m: name 'batch_size' is not defined"
     ]
    }
   ],
   "source": [
    "import sys\n",
    "sys.path.append(\"..\") \n",
    "from src.models.recommender import Recommender\n",
    "# Initialize and train recommender\n",
    "print(\"Training recommender...\")\n",
    "recommender = Recommender()  # No batch_size in constructor\n",
    "recommender.fit(df)  # Pass batch_size to fit instead\n",
    "\n",
    "# Test recommendations\n",
    "test_session = df['session'].iloc[0]\n",
    "recommendations = recommender.recommend_for_session(test_session)\n",
    "\n",
    "print(f\"\\nRecommendations for session {test_session}:\")\n",
    "for item_id, score in recommendations:\n",
    "    print(f\"  - Item {item_id}: Score = {score:.2f}\")"
   ]
  },
  {
   "cell_type": "code",
   "execution_count": 29,
   "metadata": {},
   "outputs": [
    {
     "ename": "ValueError",
     "evalue": "user_items must contain 1 row for every user in userids",
     "output_type": "error",
     "traceback": [
      "\u001b[1;31m---------------------------------------------------------------------------\u001b[0m",
      "\u001b[1;31mValueError\u001b[0m                                Traceback (most recent call last)",
      "Cell \u001b[1;32mIn[29], line 2\u001b[0m\n\u001b[0;32m      1\u001b[0m \u001b[38;5;66;03m# Obtener recomendaciones para una sesión (por ejemplo, 123456)\u001b[39;00m\n\u001b[1;32m----> 2\u001b[0m \u001b[43mrecommender\u001b[49m\u001b[38;5;241;43m.\u001b[39;49m\u001b[43mrecommend_for_session\u001b[49m\u001b[43m(\u001b[49m\u001b[38;5;241;43m0\u001b[39;49m\u001b[43m,\u001b[49m\u001b[43m \u001b[49m\u001b[43mN\u001b[49m\u001b[38;5;241;43m=\u001b[39;49m\u001b[38;5;241;43m10\u001b[39;49m\u001b[43m)\u001b[49m\n",
      "File \u001b[1;32md:\\voiceflip\\src\\models\\recommender.py:48\u001b[0m, in \u001b[0;36mRecommender.recommend_for_session\u001b[1;34m(self, session_id, N)\u001b[0m\n\u001b[0;32m     46\u001b[0m     \u001b[38;5;28;01mreturn\u001b[39;00m []\n\u001b[0;32m     47\u001b[0m user_idx \u001b[38;5;241m=\u001b[39m \u001b[38;5;28mself\u001b[39m\u001b[38;5;241m.\u001b[39muser_inverse_mapping[session_id]\n\u001b[1;32m---> 48\u001b[0m recommendations, _ \u001b[38;5;241m=\u001b[39m \u001b[38;5;28;43mself\u001b[39;49m\u001b[38;5;241;43m.\u001b[39;49m\u001b[43mmodel\u001b[49m\u001b[38;5;241;43m.\u001b[39;49m\u001b[43mrecommend\u001b[49m\u001b[43m(\u001b[49m\u001b[43muser_idx\u001b[49m\u001b[43m,\u001b[49m\u001b[43m \u001b[49m\u001b[38;5;28;43mself\u001b[39;49m\u001b[38;5;241;43m.\u001b[39;49m\u001b[43muser_item_matrix\u001b[49m\u001b[38;5;241;43m.\u001b[39;49m\u001b[43mtocsr\u001b[49m\u001b[43m(\u001b[49m\u001b[43m)\u001b[49m\u001b[43m,\u001b[49m\u001b[43m \u001b[49m\u001b[43mN\u001b[49m\u001b[38;5;241;43m=\u001b[39;49m\u001b[43mN\u001b[49m\u001b[43m)\u001b[49m\n\u001b[0;32m     49\u001b[0m item_ids \u001b[38;5;241m=\u001b[39m [\u001b[38;5;28mself\u001b[39m\u001b[38;5;241m.\u001b[39mitem_mapping[item_idx] \u001b[38;5;28;01mfor\u001b[39;00m item_idx \u001b[38;5;129;01min\u001b[39;00m recommendations]\n\u001b[0;32m     50\u001b[0m \u001b[38;5;28;01mreturn\u001b[39;00m item_ids\n",
      "File \u001b[1;32md:\\voiceflip\\env\\lib\\site-packages\\implicit\\cpu\\matrix_factorization_base.py:49\u001b[0m, in \u001b[0;36mMatrixFactorizationBase.recommend\u001b[1;34m(self, userid, user_items, N, filter_already_liked_items, filter_items, recalculate_user, items)\u001b[0m\n\u001b[0;32m     47\u001b[0m     user_count \u001b[38;5;241m=\u001b[39m \u001b[38;5;241m1\u001b[39m \u001b[38;5;28;01mif\u001b[39;00m np\u001b[38;5;241m.\u001b[39misscalar(userid) \u001b[38;5;28;01melse\u001b[39;00m \u001b[38;5;28mlen\u001b[39m(userid)\n\u001b[0;32m     48\u001b[0m     \u001b[38;5;28;01mif\u001b[39;00m user_items\u001b[38;5;241m.\u001b[39mshape[\u001b[38;5;241m0\u001b[39m] \u001b[38;5;241m!=\u001b[39m user_count:\n\u001b[1;32m---> 49\u001b[0m         \u001b[38;5;28;01mraise\u001b[39;00m \u001b[38;5;167;01mValueError\u001b[39;00m(\u001b[38;5;124m\"\u001b[39m\u001b[38;5;124muser_items must contain 1 row for every user in userids\u001b[39m\u001b[38;5;124m\"\u001b[39m)\n\u001b[0;32m     51\u001b[0m user \u001b[38;5;241m=\u001b[39m \u001b[38;5;28mself\u001b[39m\u001b[38;5;241m.\u001b[39m_user_factor(userid, user_items, recalculate_user)\n\u001b[0;32m     53\u001b[0m item_factors \u001b[38;5;241m=\u001b[39m \u001b[38;5;28mself\u001b[39m\u001b[38;5;241m.\u001b[39mitem_factors\n",
      "\u001b[1;31mValueError\u001b[0m: user_items must contain 1 row for every user in userids"
     ]
    }
   ],
   "source": [
    "# Obtener recomendaciones para una sesión (por ejemplo, 123456)\n",
    "recommender.recommend_for_session(0, N=10)"
   ]
  },
  {
   "cell_type": "code",
   "execution_count": 30,
   "metadata": {},
   "outputs": [
    {
     "data": {
      "text/plain": [
       "True"
      ]
     },
     "execution_count": 30,
     "metadata": {},
     "output_type": "execute_result"
    }
   ],
   "source": [
    "0 in df['session'].values"
   ]
  }
 ],
 "metadata": {
  "kernelspec": {
   "display_name": "env",
   "language": "python",
   "name": "python3"
  },
  "language_info": {
   "codemirror_mode": {
    "name": "ipython",
    "version": 3
   },
   "file_extension": ".py",
   "mimetype": "text/x-python",
   "name": "python",
   "nbconvert_exporter": "python",
   "pygments_lexer": "ipython3",
   "version": "3.9.0"
  }
 },
 "nbformat": 4,
 "nbformat_minor": 2
}
